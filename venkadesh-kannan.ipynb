{
 "cells": [
  {
   "cell_type": "code",
   "execution_count": 6,
   "metadata": {},
   "outputs": [],
   "source": [
    "# Importing all libraries required.\n",
    "import os\n",
    "import numpy as np\n",
    "import pandas as pd\n",
    "import matplotlib.pyplot as plt\n",
    "import seaborn as sns\n",
    "\n",
    "# set it to convert scientific values\n",
    "pd.options.display.float_format = '{:.2f}'.format \n",
    "\n",
    "# Regular expressions for string manipulation\n",
    "import re\n",
    "\n",
    "# Ignore warnings due to version problems\n",
    "import warnings\n",
    "warnings.filterwarnings('ignore')\n",
    "\n",
    "# to print versions of packages\n",
    "#!pip install print-versions # works for python >= 3.8\n",
    "from print_versions import print_versions\n",
    "\n",
    "# versions\n",
    "import sys\n",
    "import platform\n"
   ]
  },
  {
   "cell_type": "code",
   "execution_count": 7,
   "metadata": {},
   "outputs": [
    {
     "name": "stdout",
     "output_type": "stream",
     "text": [
      "3.10.5\n",
      "numpy==2.0.2\n",
      "pandas==2.2.2\n",
      "seaborn==0.13.2\n",
      "re==2.2.1\n",
      "platform==1.0.8\n"
     ]
    }
   ],
   "source": [
    "\n",
    "print(platform.python_version())\n",
    "print_versions(globals())\n"
   ]
  },
  {
   "cell_type": "code",
   "execution_count": 5,
   "metadata": {},
   "outputs": [
    {
     "name": "stdout",
     "output_type": "stream",
     "text": [
      "numpy==2.0.2\n",
      "pandas==2.2.2\n",
      "seaborn==0.13.2\n",
      "re==2.2.1\n",
      "platform==1.0.8\n"
     ]
    }
   ],
   "source": [
    "\n",
    "\n",
    "# numpy==1.25.2\n",
    "# pandas==1.5.3"
   ]
  },
  {
   "cell_type": "code",
   "execution_count": null,
   "metadata": {},
   "outputs": [],
   "source": []
  }
 ],
 "metadata": {
  "kernelspec": {
   "display_name": "Python 3",
   "language": "python",
   "name": "python3"
  },
  "language_info": {
   "codemirror_mode": {
    "name": "ipython",
    "version": 3
   },
   "file_extension": ".py",
   "mimetype": "text/x-python",
   "name": "python",
   "nbconvert_exporter": "python",
   "pygments_lexer": "ipython3",
   "version": "3.10.5"
  }
 },
 "nbformat": 4,
 "nbformat_minor": 2
}
